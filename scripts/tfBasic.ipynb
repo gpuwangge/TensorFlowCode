{
 "cells": [
  {
   "cell_type": "code",
   "execution_count": 2,
   "id": "6fd7ca4c-e4ca-4095-a9c8-fd913378b2a1",
   "metadata": {},
   "outputs": [
    {
     "name": "stdout",
     "output_type": "stream",
     "text": [
      "tf.Tensor([[2.]], shape=(1, 1), dtype=float32)\n"
     ]
    }
   ],
   "source": [
    "import tensorflow as tf\n",
    "\n",
    "w = tf.Variable([[0.5, 1.0]])\n",
    "x = tf.Variable([[2.0],[1.0]])\n",
    "y = tf.matmul(w,x)\n",
    "\n",
    "print(y)"
   ]
  },
  {
   "cell_type": "code",
   "execution_count": 3,
   "id": "2637abdc-c50d-4ee9-bb61-df5cc5eaeb0d",
   "metadata": {},
   "outputs": [
    {
     "name": "stdout",
     "output_type": "stream",
     "text": [
      "tf.Tensor(\n",
      "[[0 0 0 0]\n",
      " [0 0 0 0]\n",
      " [0 0 0 0]], shape=(3, 4), dtype=int32)\n",
      "tf.Tensor([1 2 3 4 5 6 7], shape=(7,), dtype=int32)\n",
      "tf.Tensor(\n",
      "[[ -7.561867   -3.5363588   2.383294 ]\n",
      " [ -0.4473791  -7.707698  -10.605548 ]], shape=(2, 3), dtype=float32)\n",
      "tf.Tensor(\n",
      "[[ -0.4473791  -7.707698  -10.605548 ]\n",
      " [ -7.561867   -3.5363588   2.383294 ]], shape=(2, 3), dtype=float32)\n"
     ]
    }
   ],
   "source": [
    "a = tf.zeros([3, 4], dtype = 'int32')\n",
    "print(a)\n",
    "b = tf.constant([1, 2, 3, 4, 5, 6, 7])\n",
    "print(b)\n",
    "c = tf.random.normal([2,3], mean=-1, stddev=4)\n",
    "print(c)\n",
    "d = tf.random.shuffle(c)\n",
    "print(d)"
   ]
  },
  {
   "cell_type": "code",
   "execution_count": 4,
   "id": "792d0f17-24e9-4a98-b8ba-1b73804644ee",
   "metadata": {},
   "outputs": [
    {
     "name": "stdout",
     "output_type": "stream",
     "text": [
      "tf.Tensor(\n",
      "[[1. 1. 1.]\n",
      " [1. 1. 1.]\n",
      " [1. 1. 1.]], shape=(3, 3), dtype=float64)\n"
     ]
    }
   ],
   "source": [
    "import numpy as np\n",
    "a = np.ones((3,3))\n",
    "ta = tf.convert_to_tensor(a)\n",
    "print(ta)"
   ]
  },
  {
   "cell_type": "code",
   "execution_count": 11,
   "id": "5463f801-81f5-496f-8729-9ab61332da0e",
   "metadata": {},
   "outputs": [
    {
     "name": "stdout",
     "output_type": "stream",
     "text": [
      "tf.Tensor(\n",
      "[[2. 4.]\n",
      " [3. 8.]], shape=(2, 2), dtype=float32)\n",
      "tf.Tensor(\n",
      "[[3. 4.]\n",
      " [3. 4.]], shape=(2, 2), dtype=float32)\n"
     ]
    }
   ],
   "source": [
    "#input1 = tf.placeholder(tf.float32)  #legacy\n",
    "input1 = tf.Variable([[1.0, 2.0],[3.0, 4.0]], [2, 2], dtype=tf.float32)\n",
    "input2 = tf.Variable([[2.0, 2.0],[1.0, 2.0]], [2, 2], dtype=tf.float32)\n",
    "output = tf.multiply(input1, input2) \n",
    "print(output)\n",
    "input1 = tf.Variable(tf.ones([2,2]), [2, 2], dtype=tf.float32)\n",
    "input2 = tf.Variable([[2.0, 2.0],[1.0, 2.0]], [2, 2], dtype=tf.float32)\n",
    "output = tf.matmul(input1, input2)\n",
    "print(output)"
   ]
  },
  {
   "cell_type": "code",
   "execution_count": null,
   "id": "197a5f4a-624b-4c30-92e0-faa7baeedf31",
   "metadata": {},
   "outputs": [],
   "source": []
  }
 ],
 "metadata": {
  "kernelspec": {
   "display_name": "Python 3 (ipykernel)",
   "language": "python",
   "name": "python3"
  },
  "language_info": {
   "codemirror_mode": {
    "name": "ipython",
    "version": 3
   },
   "file_extension": ".py",
   "mimetype": "text/x-python",
   "name": "python",
   "nbconvert_exporter": "python",
   "pygments_lexer": "ipython3",
   "version": "3.11.4"
  }
 },
 "nbformat": 4,
 "nbformat_minor": 5
}
