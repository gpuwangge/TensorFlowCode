{
 "cells": [
  {
   "cell_type": "code",
   "execution_count": 1,
   "id": "0e5c69c1-33d7-48e5-8d9e-3a33a1c85d07",
   "metadata": {},
   "outputs": [
    {
     "name": "stderr",
     "output_type": "stream",
     "text": [
      "WARNING:absl:Please consider providing the trackable_obj argument in the from_concrete_functions. Providing without the trackable_obj argument is deprecated and it will use the deprecated conversion path.\n"
     ]
    }
   ],
   "source": [
    "import tensorflow as tf\n",
    "\n",
    "DIM = 4096\n",
    "\n",
    "def a_regular_function(x, y):\n",
    "    r = tf.matmul(x, y)\n",
    "    return r\n",
    "\n",
    "root = tf.train.Checkpoint()\n",
    "root.f = tf.function(a_regular_function)\n",
    "\n",
    "input_data_x = tf.constant(1., shape=[DIM, DIM], dtype=tf.float32, name=None)\n",
    "input_data_y = tf.constant(1., shape=[DIM, 1  ], dtype=tf.float32, name=None)\n",
    "concrete_func = root.f.get_concrete_function(input_data_x, input_data_y)\n",
    "\n",
    "converter = tf.lite.TFLiteConverter.from_concrete_functions([concrete_func])\n",
    "tflite_model = converter.convert()\n",
    "\n",
    "with open('genGEMV.tflite', 'wb') as f:\n",
    "  f.write(tflite_model)"
   ]
  },
  {
   "cell_type": "code",
   "execution_count": 2,
   "id": "7bef2d31-fff9-42e3-a58e-13a1cd5a89cf",
   "metadata": {},
   "outputs": [],
   "source": [
    "#Dynamic Range Quantization\n",
    "converter.optimizations = [tf.lite.Optimize.DEFAULT]\n",
    "tflite_model_dynamic = converter.convert()\n",
    "\n",
    "with open('genGEMV_dynamic.tflite', 'wb') as f:\n",
    "  f.write(tflite_model_dynamic)"
   ]
  },
  {
   "cell_type": "code",
   "execution_count": 3,
   "id": "efaf0ec7-9c54-48b2-9578-b1f361f2152a",
   "metadata": {},
   "outputs": [],
   "source": [
    "#Float16 Quantization\n",
    "converter.target_spec.supported_types = [tf.float16]\n",
    "tflite_model_float16 = converter.convert()\n",
    "\n",
    "with open('genGEMV_float16.tflite', 'wb') as f:\n",
    "  f.write(tflite_model_float16)"
   ]
  },
  {
   "cell_type": "code",
   "execution_count": 4,
   "id": "91d0e356-0265-4b29-9024-6ce51bff0a99",
   "metadata": {},
   "outputs": [
    {
     "name": "stderr",
     "output_type": "stream",
     "text": [
      "WARNING:absl:Please consider providing the trackable_obj argument in the from_concrete_functions. Providing without the trackable_obj argument is deprecated and it will use the deprecated conversion path.\n",
      "C:\\Users\\Xiaojun\\AppData\\Local\\Packages\\PythonSoftwareFoundation.Python.3.11_qbz5n2kfra8p0\\LocalCache\\local-packages\\Python311\\site-packages\\tensorflow\\lite\\python\\convert.py:887: UserWarning: Statistics for quantized inputs were expected, but not specified; continuing anyway.\n",
      "  warnings.warn(\n"
     ]
    }
   ],
   "source": [
    "#Integer Float Fallback Quantization\n",
    "converter = tf.lite.TFLiteConverter.from_concrete_functions([concrete_func])\n",
    "converter.optimizations = [tf.lite.Optimize.DEFAULT]\n",
    "def representative_dataset():\n",
    "    for i in range(10):\n",
    "        # create fake data\n",
    "        fake_data_x = tf.random.normal([DIM, DIM])\n",
    "        fake_data_y = tf.random.normal([DIM, 1  ])\n",
    "        yield [fake_data_x, fake_data_y]\n",
    "converter.representative_dataset = representative_dataset\n",
    "\n",
    "tflite_model_integer = converter.convert()\n",
    "\n",
    "with open('genGEMV_integer.tflite', 'wb') as f:\n",
    "  f.write(tflite_model_integer)"
   ]
  },
  {
   "cell_type": "code",
   "execution_count": null,
   "id": "17c7092e-daa8-4f84-a9a4-209b698202ba",
   "metadata": {},
   "outputs": [],
   "source": []
  }
 ],
 "metadata": {
  "kernelspec": {
   "display_name": "Python 3 (ipykernel)",
   "language": "python",
   "name": "python3"
  },
  "language_info": {
   "codemirror_mode": {
    "name": "ipython",
    "version": 3
   },
   "file_extension": ".py",
   "mimetype": "text/x-python",
   "name": "python",
   "nbconvert_exporter": "python",
   "pygments_lexer": "ipython3",
   "version": "3.11.4"
  }
 },
 "nbformat": 4,
 "nbformat_minor": 5
}
