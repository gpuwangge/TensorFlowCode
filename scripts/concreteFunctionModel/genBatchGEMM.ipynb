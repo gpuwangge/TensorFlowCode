{
 "cells": [
  {
   "cell_type": "code",
   "execution_count": 2,
   "id": "dd27295a-9926-40e6-9315-1bc106203aad",
   "metadata": {},
   "outputs": [
    {
     "name": "stdout",
     "output_type": "stream",
     "text": [
      "2.13.0\n",
      "{'serving_default': {'inputs': ['x', 'y'], 'outputs': ['output_0']}}\n"
     ]
    }
   ],
   "source": [
    "import tensorflow as tf\n",
    "import logging, sys\n",
    "logging.disable(sys.maxsize)\n",
    "\n",
    "print(tf.__version__)\n",
    "\n",
    "\n",
    "DIMA = 32\n",
    "DIMB = 128\n",
    "DIMM = 32\n",
    "DIMN = 513\n",
    "DIMK = 128\n",
    "\n",
    "class Model(tf.Module):\n",
    "    @tf.function(input_signature=[tf.TensorSpec(shape=[DIMA, DIMB, DIMM, DIMK], dtype=tf.float32, name=None), \n",
    "                                  tf.TensorSpec(shape=[DIMA, DIMB, DIMK, DIMN], dtype=tf.float32, name=None)])\n",
    "    def func1(self, x, y):\n",
    "        return tf.matmul(x,y)\n",
    "\n",
    "model = Model()\n",
    "\n",
    "converter = tf.lite.TFLiteConverter.from_concrete_functions([model.func1.get_concrete_function()], model)\n",
    "tflite_model = converter.convert() \n",
    "\n",
    "with open('genBatchGEMM_float32.tflite', 'wb') as f:\n",
    "    f.write(tflite_model)\n",
    "\n",
    "interpreter = tf.lite.Interpreter(model_content=tflite_model)\n",
    "signatures = interpreter.get_signature_list()\n",
    "print(signatures)"
   ]
  },
  {
   "cell_type": "code",
   "execution_count": 3,
   "id": "6c62ed38-d956-4959-b220-a0548893b114",
   "metadata": {},
   "outputs": [],
   "source": [
    "#Integer Float Fallback Quantization\n",
    "#?Large File?\n",
    "converter = tf.lite.TFLiteConverter.from_concrete_functions([model.func1.get_concrete_function()], model)\n",
    "converter.optimizations = [tf.lite.Optimize.DEFAULT]\n",
    "def representative_dataset():\n",
    "    for i in range(10): # create fake data\n",
    "        fake_data_x = tf.random.normal([DIMA, DIMB, DIMM, DIMK])\n",
    "        fake_data_y = tf.random.normal([DIMA, DIMB, DIMK, DIMN])\n",
    "        yield [fake_data_y, fake_data_x]\n",
    "converter.representative_dataset = representative_dataset\n",
    "\n",
    "tflite_model_integer_fallback = converter.convert()\n",
    "\n",
    "with open('genBatchGEMM_integer_fallback.tflite', 'wb') as f:\n",
    "  f.write(tflite_model_integer_fallback)"
   ]
  },
  {
   "cell_type": "code",
   "execution_count": 4,
   "id": "4cf944ab-ba0b-4ae8-a0ad-dcb9a0f739ad",
   "metadata": {},
   "outputs": [],
   "source": [
    "#integer-only quantization\n",
    "#?Large File?\n",
    "converter.target_spec.supported_ops = [tf.lite.OpsSet.TFLITE_BUILTINS_INT8]\n",
    "converter.inference_input_type = tf.uint8\n",
    "converter.inference_output_type = tf.uint8\n",
    "\n",
    "tflite_model_integer_only = converter.convert()\n",
    "\n",
    "with open('genBatchGEMM_integer_only.tflite', 'wb') as f:\n",
    "  f.write(tflite_model_integer_only)"
   ]
  },
  {
   "cell_type": "code",
   "execution_count": null,
   "id": "0a2e2cf7-eba2-470a-964c-bbbc064addf0",
   "metadata": {},
   "outputs": [],
   "source": []
  }
 ],
 "metadata": {
  "kernelspec": {
   "display_name": "Python 3 (ipykernel)",
   "language": "python",
   "name": "python3"
  },
  "language_info": {
   "codemirror_mode": {
    "name": "ipython",
    "version": 3
   },
   "file_extension": ".py",
   "mimetype": "text/x-python",
   "name": "python",
   "nbconvert_exporter": "python",
   "pygments_lexer": "ipython3",
   "version": "3.11.4"
  }
 },
 "nbformat": 4,
 "nbformat_minor": 5
}
