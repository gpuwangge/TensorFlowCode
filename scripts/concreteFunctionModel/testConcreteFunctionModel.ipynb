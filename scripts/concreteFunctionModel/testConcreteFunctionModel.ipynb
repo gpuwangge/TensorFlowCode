{
 "cells": [
  {
   "cell_type": "code",
   "execution_count": 3,
   "id": "ec5370f3-735f-41ea-abf1-ea89c382e0c7",
   "metadata": {},
   "outputs": [
    {
     "name": "stdout",
     "output_type": "stream",
     "text": [
      "2.13.0\n",
      "INFO:tensorflow:Assets written to: C:\\Users\\Xiaojun\\AppData\\Local\\Temp\\tmpy_t97ay0\\assets\n"
     ]
    },
    {
     "name": "stderr",
     "output_type": "stream",
     "text": [
      "INFO:tensorflow:Assets written to: C:\\Users\\Xiaojun\\AppData\\Local\\Temp\\tmpy_t97ay0\\assets\n"
     ]
    },
    {
     "name": "stdout",
     "output_type": "stream",
     "text": [
      "{'serving_default': {'inputs': ['x', 'y'], 'outputs': ['output_0']}}\n"
     ]
    }
   ],
   "source": [
    "import tensorflow as tf\n",
    "print(tf.__version__)\n",
    "\n",
    "class Model(tf.Module):\n",
    "    @tf.function(input_signature=[tf.TensorSpec(shape=[None], dtype=tf.float32, name=None), \n",
    "                                  tf.TensorSpec(shape=[None], dtype=tf.float32, name=None)])\n",
    "    def func1(self, x, y):\n",
    "        return tf.add(x,y)\n",
    "\n",
    "model = Model()\n",
    "\n",
    "# Convert the concrete functions using TFLiteConverter\n",
    "converter = tf.lite.TFLiteConverter.from_concrete_functions([model.func1.get_concrete_function()], model)\n",
    "tflite_model = converter.convert() #this write ? to \\AppData\\Local\\Temp\\tmpswiwczk9\\assets\n",
    "\n",
    "with open('oneFunctionsModel.tflite', 'wb') as f:\n",
    "    f.write(tflite_model)\n",
    "\n",
    "# Print the signatures from the converted model\n",
    "interpreter = tf.lite.Interpreter(model_content=tflite_model)\n",
    "signatures = interpreter.get_signature_list()\n",
    "print(signatures)"
   ]
  },
  {
   "cell_type": "code",
   "execution_count": 4,
   "id": "84e90760-21df-4d32-888f-3423a3109055",
   "metadata": {},
   "outputs": [
    {
     "name": "stdout",
     "output_type": "stream",
     "text": [
      "INFO:tensorflow:Assets written to: C:\\Users\\Xiaojun\\AppData\\Local\\Temp\\tmp58jzujys\\assets\n"
     ]
    },
    {
     "name": "stderr",
     "output_type": "stream",
     "text": [
      "INFO:tensorflow:Assets written to: C:\\Users\\Xiaojun\\AppData\\Local\\Temp\\tmp58jzujys\\assets\n"
     ]
    },
    {
     "name": "stdout",
     "output_type": "stream",
     "text": [
      "{'func1': {'inputs': ['x'], 'outputs': ['output_0']}, 'func2': {'inputs': ['x', 'y'], 'outputs': ['output_0']}}\n"
     ]
    }
   ],
   "source": [
    "# When combining two functions in one model, two computing graphs will be generated within one model file.\n",
    "class Model(tf.Module):\n",
    "    @tf.function(input_signature=[tf.TensorSpec(shape=[None], dtype=tf.float32)])\n",
    "    def func1(self, x):\n",
    "        return tf.square(x)\n",
    "    @tf.function(input_signature=[tf.TensorSpec(shape=[None], dtype=tf.float32), \n",
    "                                  tf.TensorSpec(shape=[None], dtype=tf.float32)])\n",
    "    def func2(self, x, y):\n",
    "        return tf.add(x,y)\n",
    "\n",
    "model = Model()\n",
    "\n",
    "# Convert the concrete functions using TFLiteConverter\n",
    "converter = tf.lite.TFLiteConverter.from_concrete_functions([model.func1.get_concrete_function(), \n",
    "                                                             model.func2.get_concrete_function()], model)\n",
    "tflite_model = converter.convert() \n",
    "\n",
    "with open('twoFunctionsModel.tflite', 'wb') as f:\n",
    "    f.write(tflite_model)\n",
    "\n",
    "# Print the signatures from the converted model\n",
    "interpreter = tf.lite.Interpreter(model_content=tflite_model)\n",
    "signatures = interpreter.get_signature_list()\n",
    "print(signatures)"
   ]
  },
  {
   "cell_type": "code",
   "execution_count": null,
   "id": "4dc149e9-b0c0-4c85-8689-453bbb532bd6",
   "metadata": {},
   "outputs": [],
   "source": []
  }
 ],
 "metadata": {
  "kernelspec": {
   "display_name": "Python 3 (ipykernel)",
   "language": "python",
   "name": "python3"
  },
  "language_info": {
   "codemirror_mode": {
    "name": "ipython",
    "version": 3
   },
   "file_extension": ".py",
   "mimetype": "text/x-python",
   "name": "python",
   "nbconvert_exporter": "python",
   "pygments_lexer": "ipython3",
   "version": "3.11.4"
  }
 },
 "nbformat": 4,
 "nbformat_minor": 5
}
