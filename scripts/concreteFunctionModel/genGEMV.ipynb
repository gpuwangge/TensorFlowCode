{
 "cells": [
  {
   "cell_type": "code",
   "execution_count": 136,
   "id": "2bfd0cf9-ab94-497d-8c72-28bc41ceb6d4",
   "metadata": {},
   "outputs": [
    {
     "name": "stdout",
     "output_type": "stream",
     "text": [
      "2.13.0\n",
      "INFO:tensorflow:Assets written to: C:\\Users\\Xiaojun\\AppData\\Local\\Temp\\tmp5wy5l5kl\\assets\n"
     ]
    },
    {
     "name": "stderr",
     "output_type": "stream",
     "text": [
      "INFO:tensorflow:Assets written to: C:\\Users\\Xiaojun\\AppData\\Local\\Temp\\tmp5wy5l5kl\\assets\n"
     ]
    },
    {
     "name": "stdout",
     "output_type": "stream",
     "text": [
      "{'serving_default': {'inputs': ['x', 'y'], 'outputs': ['output_0']}}\n"
     ]
    }
   ],
   "source": [
    "#https://colab.research.google.com/github/tensorflow/tensorflow/blob/master/tensorflow/lite/g3doc/performance/post_training_integer_quant.ipynb\n",
    "import tensorflow as tf\n",
    "print(tf.__version__)\n",
    "\n",
    "DIMX = 4096\n",
    "DIMY = 8192\n",
    "\n",
    "class Model(tf.Module):\n",
    "    @tf.function(input_signature=[tf.TensorSpec(shape=[DIMX, DIMY], dtype=tf.float32, name=None), \n",
    "                                  tf.TensorSpec(shape=[DIMY, 1], dtype=tf.float32, name=None)])\n",
    "    def func1(self, x, y):\n",
    "        return tf.matmul(x,y)\n",
    "\n",
    "model = Model()\n",
    "\n",
    "converter = tf.lite.TFLiteConverter.from_concrete_functions([model.func1.get_concrete_function()], model)\n",
    "tflite_model = converter.convert() \n",
    "\n",
    "with open('genGEMV_float32.tflite', 'wb') as f:\n",
    "    f.write(tflite_model)\n",
    "\n",
    "interpreter = tf.lite.Interpreter(model_content=tflite_model)\n",
    "signatures = interpreter.get_signature_list()\n",
    "print(signatures)"
   ]
  },
  {
   "cell_type": "code",
   "execution_count": 137,
   "id": "5b246350-bf52-44f5-9167-7f3e638b8913",
   "metadata": {},
   "outputs": [
    {
     "name": "stdout",
     "output_type": "stream",
     "text": [
      "INFO:tensorflow:Assets written to: C:\\Users\\Xiaojun\\AppData\\Local\\Temp\\tmp65jbt8uw\\assets\n"
     ]
    },
    {
     "name": "stderr",
     "output_type": "stream",
     "text": [
      "INFO:tensorflow:Assets written to: C:\\Users\\Xiaojun\\AppData\\Local\\Temp\\tmp65jbt8uw\\assets\n"
     ]
    }
   ],
   "source": [
    "#Dynamic Range Quantization\n",
    "converter.optimizations = [tf.lite.Optimize.DEFAULT]\n",
    "tflite_model_dynamic = converter.convert()\n",
    "\n",
    "with open('genGEMV_dynamic.tflite', 'wb') as f:\n",
    "  f.write(tflite_model_dynamic)"
   ]
  },
  {
   "cell_type": "code",
   "execution_count": 138,
   "id": "74389c52-3102-4bfc-8a06-87d215ba6b85",
   "metadata": {},
   "outputs": [
    {
     "name": "stdout",
     "output_type": "stream",
     "text": [
      "INFO:tensorflow:Assets written to: C:\\Users\\Xiaojun\\AppData\\Local\\Temp\\tmp6dr5rypv\\assets\n"
     ]
    },
    {
     "name": "stderr",
     "output_type": "stream",
     "text": [
      "INFO:tensorflow:Assets written to: C:\\Users\\Xiaojun\\AppData\\Local\\Temp\\tmp6dr5rypv\\assets\n"
     ]
    }
   ],
   "source": [
    "#Float16 Quantization\n",
    "converter.target_spec.supported_types = [tf.float16]\n",
    "tflite_model_float16 = converter.convert()\n",
    "\n",
    "with open('genGEMV_float16.tflite', 'wb') as f:\n",
    "  f.write(tflite_model_float16)"
   ]
  },
  {
   "cell_type": "code",
   "execution_count": 141,
   "id": "094328b6-fe29-4909-831f-b5d59a812c9c",
   "metadata": {},
   "outputs": [
    {
     "name": "stdout",
     "output_type": "stream",
     "text": [
      "INFO:tensorflow:Assets written to: C:\\Users\\Xiaojun\\AppData\\Local\\Temp\\tmpnwrqqqv7\\assets\n"
     ]
    },
    {
     "name": "stderr",
     "output_type": "stream",
     "text": [
      "INFO:tensorflow:Assets written to: C:\\Users\\Xiaojun\\AppData\\Local\\Temp\\tmpnwrqqqv7\\assets\n"
     ]
    }
   ],
   "source": [
    "#Integer Float Fallback Quantization\n",
    "converter = tf.lite.TFLiteConverter.from_concrete_functions([model.func1.get_concrete_function()], model)\n",
    "converter.optimizations = [tf.lite.Optimize.DEFAULT]\n",
    "def representative_dataset():\n",
    "    for i in range(10): # create fake data\n",
    "        fake_data_x = tf.random.normal([DIMX, DIMY])\n",
    "        fake_data_y = tf.random.normal([DIMY, 1])\n",
    "        #yield [fake_data_x, fake_data_y] #reverse order of inputs here!\n",
    "        yield [fake_data_y, fake_data_x]\n",
    "converter.representative_dataset = representative_dataset\n",
    "\n",
    "tflite_model_integer_fallback = converter.convert()\n",
    "\n",
    "with open('genGEMV_integer_fallback.tflite', 'wb') as f:\n",
    "  f.write(tflite_model_integer_fallback)"
   ]
  },
  {
   "cell_type": "code",
   "execution_count": 142,
   "id": "951a7461-76d4-4a02-afe0-1d0ec5706e7f",
   "metadata": {},
   "outputs": [
    {
     "name": "stdout",
     "output_type": "stream",
     "text": [
      "INFO:tensorflow:Assets written to: C:\\Users\\Xiaojun\\AppData\\Local\\Temp\\tmpix_8bs_d\\assets\n"
     ]
    },
    {
     "name": "stderr",
     "output_type": "stream",
     "text": [
      "INFO:tensorflow:Assets written to: C:\\Users\\Xiaojun\\AppData\\Local\\Temp\\tmpix_8bs_d\\assets\n"
     ]
    }
   ],
   "source": [
    "#integer-only quantization\n",
    "converter.target_spec.supported_ops = [tf.lite.OpsSet.TFLITE_BUILTINS_INT8]\n",
    "converter.inference_input_type = tf.uint8\n",
    "converter.inference_output_type = tf.uint8\n",
    "\n",
    "tflite_model_integer_only = converter.convert()\n",
    "\n",
    "with open('genGEMV_integer_only.tflite', 'wb') as f:\n",
    "  f.write(tflite_model_integer_only)"
   ]
  },
  {
   "cell_type": "code",
   "execution_count": null,
   "id": "04682859-5d16-4e80-9a81-f411ebc22e02",
   "metadata": {},
   "outputs": [],
   "source": []
  }
 ],
 "metadata": {
  "kernelspec": {
   "display_name": "Python 3 (ipykernel)",
   "language": "python",
   "name": "python3"
  },
  "language_info": {
   "codemirror_mode": {
    "name": "ipython",
    "version": 3
   },
   "file_extension": ".py",
   "mimetype": "text/x-python",
   "name": "python",
   "nbconvert_exporter": "python",
   "pygments_lexer": "ipython3",
   "version": "3.11.4"
  }
 },
 "nbformat": 4,
 "nbformat_minor": 5
}
