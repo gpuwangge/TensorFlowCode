{
 "cells": [
  {
   "cell_type": "code",
   "execution_count": 4,
   "id": "7a4e03fa-c626-4d58-a29e-a075b8010204",
   "metadata": {},
   "outputs": [
    {
     "name": "stdout",
     "output_type": "stream",
     "text": [
      "2.13.0\n",
      "INFO:tensorflow:Assets written to: C:\\Users\\Xiaojun\\AppData\\Local\\Temp\\tmpcmmer306\\assets\n"
     ]
    },
    {
     "name": "stderr",
     "output_type": "stream",
     "text": [
      "INFO:tensorflow:Assets written to: C:\\Users\\Xiaojun\\AppData\\Local\\Temp\\tmpcmmer306\\assets\n"
     ]
    },
    {
     "name": "stdout",
     "output_type": "stream",
     "text": [
      "{'serving_default': {'inputs': ['x', 'y'], 'outputs': ['output_0']}}\n"
     ]
    }
   ],
   "source": [
    "import tensorflow as tf\n",
    "import logging, sys\n",
    "logging.disable(sys.maxsize)\n",
    "\n",
    "print(tf.__version__)\n",
    "\n",
    "DIMX = 4096\n",
    "DIMY = 4096\n",
    "\n",
    "class Model(tf.Module):\n",
    "    @tf.function(input_signature=[tf.TensorSpec(shape=[DIMX, DIMY], dtype=tf.float32, name=None), \n",
    "                                  tf.TensorSpec(shape=[DIMX, DIMY], dtype=tf.float32, name=None)])\n",
    "    def func1(self, x, y):\n",
    "        return tf.matmul(x,y)\n",
    "\n",
    "model = Model()\n",
    "\n",
    "converter = tf.lite.TFLiteConverter.from_concrete_functions([model.func1.get_concrete_function()], model)\n",
    "tflite_model = converter.convert() \n",
    "\n",
    "with open('genGEMM_float32.tflite', 'wb') as f:\n",
    "    f.write(tflite_model)\n",
    "\n",
    "interpreter = tf.lite.Interpreter(model_content=tflite_model)\n",
    "signatures = interpreter.get_signature_list()\n",
    "print(signatures)"
   ]
  },
  {
   "cell_type": "code",
   "execution_count": 3,
   "id": "50bb8019-e072-44fa-b3a4-782b49e551bf",
   "metadata": {},
   "outputs": [
    {
     "name": "stdout",
     "output_type": "stream",
     "text": [
      "INFO:tensorflow:Assets written to: C:\\Users\\Xiaojun\\AppData\\Local\\Temp\\tmp4di8xjsw\\assets\n"
     ]
    },
    {
     "name": "stderr",
     "output_type": "stream",
     "text": [
      "INFO:tensorflow:Assets written to: C:\\Users\\Xiaojun\\AppData\\Local\\Temp\\tmp4di8xjsw\\assets\n"
     ]
    }
   ],
   "source": [
    "#Integer Float Fallback Quantization\n",
    "converter = tf.lite.TFLiteConverter.from_concrete_functions([model.func1.get_concrete_function()], model)\n",
    "converter.optimizations = [tf.lite.Optimize.DEFAULT]\n",
    "def representative_dataset():\n",
    "    for i in range(10): # create fake data\n",
    "        fake_data_x = tf.random.normal([DIMX, DIMY])\n",
    "        fake_data_y = tf.random.normal([DIMX, DIMY])\n",
    "        yield [fake_data_y, fake_data_x]\n",
    "converter.representative_dataset = representative_dataset\n",
    "\n",
    "tflite_model_integer_fallback = converter.convert()\n",
    "\n",
    "with open('genGEMM_integer_fallback.tflite', 'wb') as f:\n",
    "  f.write(tflite_model_integer_fallback)"
   ]
  },
  {
   "cell_type": "code",
   "execution_count": null,
   "id": "91dba190-446e-4e29-96e2-3867b69d48a2",
   "metadata": {},
   "outputs": [],
   "source": []
  }
 ],
 "metadata": {
  "kernelspec": {
   "display_name": "Python 3 (ipykernel)",
   "language": "python",
   "name": "python3"
  },
  "language_info": {
   "codemirror_mode": {
    "name": "ipython",
    "version": 3
   },
   "file_extension": ".py",
   "mimetype": "text/x-python",
   "name": "python",
   "nbconvert_exporter": "python",
   "pygments_lexer": "ipython3",
   "version": "3.11.4"
  }
 },
 "nbformat": 4,
 "nbformat_minor": 5
}
